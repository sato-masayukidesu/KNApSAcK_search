{
 "cells": [
  {
   "cell_type": "code",
   "execution_count": 9,
   "metadata": {
    "collapsed": true
   },
   "outputs": [],
   "source": [
    "import urllib.request\n",
    "import os\n",
    "from rdkit import Chem\n",
    "from rdkit.Chem import Draw\n",
    "from rdkit.Chem import AllChem\n",
    "from rdkit.Chem import BRICS\n",
    "from rdkit.Chem import rdMolDescriptors\n",
    "from rdkit.Chem import rdFMCS"
   ]
  },
  {
   "cell_type": "code",
   "execution_count": 2,
   "metadata": {
    "collapsed": false
   },
   "outputs": [
    {
     "name": "stdout",
     "output_type": "stream",
     "text": [
      "Klebsiella\n"
     ]
    }
   ],
   "source": [
    "x = input()\n",
    "url = \"http://kanaya.naist.jp/knapsack_jsp/result.jsp?sname=all&word=%s\" % (x)"
   ]
  },
  {
   "cell_type": "code",
   "execution_count": 3,
   "metadata": {
    "collapsed": true
   },
   "outputs": [],
   "source": [
    "try:\n",
    "    os.mkdir(x)\n",
    "except FileExistsError:\n",
    "    pass"
   ]
  },
  {
   "cell_type": "code",
   "execution_count": 4,
   "metadata": {
    "collapsed": true
   },
   "outputs": [],
   "source": [
    "os.chdir(x)"
   ]
  },
  {
   "cell_type": "code",
   "execution_count": 5,
   "metadata": {
    "collapsed": false
   },
   "outputs": [
    {
     "data": {
      "text/plain": [
       "('Klebsiella.txt', <http.client.HTTPMessage at 0x10ae01d30>)"
      ]
     },
     "execution_count": 5,
     "metadata": {},
     "output_type": "execute_result"
    }
   ],
   "source": [
    "urllib.request.urlretrieve(url, '%s.txt' % (x))"
   ]
  },
  {
   "cell_type": "code",
   "execution_count": 6,
   "metadata": {
    "collapsed": false
   },
   "outputs": [
    {
     "name": "stdout",
     "output_type": "stream",
     "text": [
      "C00000730\n",
      "C00000733\n",
      "C00000734\n"
     ]
    }
   ],
   "source": [
    "ld = open(\"%s.txt\" % (x))\n",
    "lines = ld.readlines()\n",
    "ld.close()\n",
    "\n",
    "C_number = []\n",
    "\n",
    "for line in lines:\n",
    "    if line.find(\"word=C\") >= 0:\n",
    "        print(line[49:-34])\n",
    "        C_number.append(line[49:-34])\n",
    "        urllib.request.urlretrieve(\"http://knapsack3d.sakura.ne.jp/mol3d/%s.3d.mol\" % (line[49:-34]), '%s.mol' % (line[49:-34]))"
   ]
  },
  {
   "cell_type": "code",
   "execution_count": 8,
   "metadata": {
    "collapsed": false
   },
   "outputs": [],
   "source": [
    "mols = []\n",
    "for i in C_number:\n",
    "    mol_data = open('%s.mol' % (i),'r').read()\n",
    "    mol = Chem.MolFromMolBlock(mol_data)\n",
    "    mols.append(mol)\n",
    "outf = Chem.SDWriter(\"output.sdf\")\n",
    "for mol in mols:\n",
    "    AllChem.Compute2DCoords(mol)\n",
    "    outf.write(mol)"
   ]
  },
  {
   "cell_type": "code",
   "execution_count": 10,
   "metadata": {
    "collapsed": false
   },
   "outputs": [
    {
     "name": "stdout",
     "output_type": "stream",
     "text": [
      "(0, 1, 2, 3, 4, 5, 6, 7, 10, 11, 12, 8)\n",
      "(0, 1, 2, 3, 4, 5, 6, 7, 10, 11, 12, 8)\n",
      "(0, 5, 4, 3, 2, 1, 6, 7, 10, 11, 12, 8)\n"
     ]
    }
   ],
   "source": [
    "ms = [m for m in Chem.SDMolSupplier('output.sdf') if m is not None]\n",
    "mcs = rdFMCS.FindMCS(ms)\n",
    "mcs_smarts = mcs.smartsString\n",
    "mcs_mol = Chem.MolFromSmarts(mcs_smarts)\n",
    "for i,m in enumerate(ms):\n",
    "    match_atoms = m.GetSubstructMatch(mcs_mol)\n",
    "    print (match_atoms)\n",
    "    Draw.MolToFile(m,'comp_%d.png' % i,highlightAtoms=match_atoms)"
   ]
  },
  {
   "cell_type": "code",
   "execution_count": null,
   "metadata": {
    "collapsed": true
   },
   "outputs": [],
   "source": []
  }
 ],
 "metadata": {
  "kernelspec": {
   "display_name": "Python 3",
   "language": "python",
   "name": "python3"
  },
  "language_info": {
   "codemirror_mode": {
    "name": "ipython",
    "version": 3
   },
   "file_extension": ".py",
   "mimetype": "text/x-python",
   "name": "python",
   "nbconvert_exporter": "python",
   "pygments_lexer": "ipython3",
   "version": "3.4.5"
  }
 },
 "nbformat": 4,
 "nbformat_minor": 2
}
