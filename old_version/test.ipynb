{
 "cells": [
  {
   "cell_type": "code",
   "execution_count": 2,
   "metadata": {
    "collapsed": false
   },
   "outputs": [],
   "source": [
    "C_number = [\"C00000730\",\"C00000733\",\"C00000734\"]"
   ]
  },
  {
   "cell_type": "code",
   "execution_count": 3,
   "metadata": {
    "collapsed": false
   },
   "outputs": [
    {
     "name": "stdout",
     "output_type": "stream",
     "text": [
      "C=C(OC1C=C(C(=O)O)C=CC1N)C(=O)O\n",
      "C=C(OC1C=C(C(=O)O)C=CC1O)C(=O)O\n",
      "C=C(OC1C=CC=C(C(=O)O)C1O)C(=O)O\n"
     ]
    }
   ],
   "source": [
    "from rdkit import Chem\n",
    "for i in C_number:\n",
    "    mol_data = open('Klebsiella/%s.mol' % (i),'r').read()\n",
    "    mol = Chem.MolFromMolBlock(mol_data)\n",
    "    print(Chem.MolToSmiles(mol))"
   ]
  },
  {
   "cell_type": "code",
   "execution_count": 4,
   "metadata": {
    "collapsed": false,
    "scrolled": false
   },
   "outputs": [
    {
     "name": "stdout",
     "output_type": "stream",
     "text": [
      "<rdkit.Chem.Recap.RecapHierarchyNode object at 0x10a6c1e10>\n"
     ]
    }
   ],
   "source": [
    "from rdkit.Chem import Recap\n",
    "from rdkit.Chem import Draw\n",
    "mol_data = open('Klebsiella/%s.mol' % (C_number[0]),'r').read()\n",
    "mol = Chem.MolFromMolBlock(mol_data)\n",
    "node = Recap.RecapDecompose(mol)\n",
    "print(node)"
   ]
  },
  {
   "cell_type": "code",
   "execution_count": 6,
   "metadata": {
    "collapsed": true
   },
   "outputs": [],
   "source": [
    "all_nodes = [node.mol for node in node.GetAllChildren().values()]\n",
    "img = Draw.MolsToGridImage(all_nodes)\n",
    "img.save('all_nodes.png')"
   ]
  },
  {
   "cell_type": "markdown",
   "metadata": {},
   "source": [
    "フラグメント化して全部まとめて表示"
   ]
  },
  {
   "cell_type": "code",
   "execution_count": 7,
   "metadata": {
    "collapsed": true
   },
   "outputs": [],
   "source": [
    "leaves = [leaf.mol for leaf in node.GetLeaves().values()]\n",
    "img = Draw.MolsToGridImage(leaves)\n",
    "img.save('leaves.png')"
   ]
  },
  {
   "cell_type": "markdown",
   "metadata": {
    "collapsed": true
   },
   "source": [
    "葉ノードだけ表示"
   ]
  },
  {
   "cell_type": "code",
   "execution_count": null,
   "metadata": {
    "collapsed": true
   },
   "outputs": [],
   "source": []
  },
  {
   "cell_type": "code",
   "execution_count": 8,
   "metadata": {
    "collapsed": true
   },
   "outputs": [],
   "source": [
    "from rdkit.Chem import AllChem\n",
    "from rdkit.Chem import BRICS\n",
    "from rdkit.Chem import rdMolDescriptors"
   ]
  },
  {
   "cell_type": "code",
   "execution_count": 21,
   "metadata": {
    "collapsed": false
   },
   "outputs": [
    {
     "name": "stdout",
     "output_type": "stream",
     "text": [
      "C=C(OC1C=CC=C(C(=O)O)C1O)C(=O)O\n"
     ]
    }
   ],
   "source": [
    "smiles = Chem.MolToSmiles(mol)\n",
    "frag = BRICS.BRICSDecompose(mol)\n",
    "print(smiles)"
   ]
  },
  {
   "cell_type": "code",
   "execution_count": 20,
   "metadata": {
    "collapsed": false,
    "scrolled": true
   },
   "outputs": [
    {
     "name": "stdout",
     "output_type": "stream",
     "text": [
      "2\n"
     ]
    }
   ],
   "source": [
    "print(len(frag))"
   ]
  },
  {
   "cell_type": "code",
   "execution_count": 11,
   "metadata": {
    "collapsed": false,
    "scrolled": false
   },
   "outputs": [
    {
     "name": "stdout",
     "output_type": "stream",
     "text": [
      "{'[15*][C@H]1C=C(C(=O)O)C=C[C@@H]1N', '[3*]OC(=C)C(=O)O'}\n"
     ]
    }
   ],
   "source": [
    "print(frag)"
   ]
  },
  {
   "cell_type": "code",
   "execution_count": 12,
   "metadata": {
    "collapsed": true
   },
   "outputs": [],
   "source": [
    "from rdkit.Chem import Draw\n",
    "from rdkit.Chem import rdDepictor\n",
    "for i in frag:\n",
    "    mol = Chem.MolFromSmiles(i)\n",
    "    rdDepictor.Compute2DCoords(mol)\n",
    "    Draw.MolToFile(mol, '%s.png' % (i))"
   ]
  },
  {
   "cell_type": "code",
   "execution_count": null,
   "metadata": {
    "collapsed": true
   },
   "outputs": [],
   "source": []
  },
  {
   "cell_type": "code",
   "execution_count": 16,
   "metadata": {
    "collapsed": false
   },
   "outputs": [
    {
     "name": "stdout",
     "output_type": "stream",
     "text": [
      "{'[15*][C@H]1C=C(C(=O)O)C=C[C@@H]1N', '[3*]OC(=C)C(=O)O'}\n",
      "{'[15*][C@H]1C=C(C(=O)O)C=C[C@@H]1O', '[3*]OC(=C)C(=O)O'}\n",
      "{'[15*][C@@H]1C=CC=C(C(=O)O)[C@H]1O', '[3*]OC(=C)C(=O)O'}\n"
     ]
    }
   ],
   "source": [
    "for i in C_number:\n",
    "    mol_data = open('Klebsiella/%s.mol' % (i),'r').read()\n",
    "    mol = Chem.MolFromMolBlock(mol_data)\n",
    "    smiles = Chem.MolToSmiles(mol)\n",
    "    frag = BRICS.BRICSDecompose(mol)\n",
    "    print(frag)"
   ]
  },
  {
   "cell_type": "code",
   "execution_count": 17,
   "metadata": {
    "collapsed": false
   },
   "outputs": [],
   "source": [
    "mols = []\n",
    "for i in C_number:\n",
    "    mol_data = open('Klebsiella/%s.mol' % (i),'r').read()\n",
    "    mol = Chem.MolFromMolBlock(mol_data)\n",
    "    mols.append(mol)\n",
    "outf = Chem.SDWriter(\"output.sdf\")\n",
    "for mol in mols:\n",
    "    AllChem.Compute2DCoords(mol)\n",
    "    outf.write(mol)"
   ]
  },
  {
   "cell_type": "code",
   "execution_count": 18,
   "metadata": {
    "collapsed": false
   },
   "outputs": [
    {
     "name": "stdout",
     "output_type": "stream",
     "text": [
      "(0, 1, 2, 3, 4, 5, 6, 7, 10, 11, 12, 8)\n",
      "(0, 1, 2, 3, 4, 5, 6, 7, 10, 11, 12, 8)\n",
      "(0, 5, 4, 3, 2, 1, 6, 7, 10, 11, 12, 8)\n"
     ]
    }
   ],
   "source": [
    "from rdkit.Chem import rdFMCS\n",
    "ms = [m for m in Chem.SDMolSupplier('output.sdf') if m is not None]\n",
    "mcs = rdFMCS.FindMCS(ms)\n",
    "mcs_smarts = mcs.smartsString\n",
    "mcs_mol = Chem.MolFromSmarts(mcs_smarts)\n",
    "for i,m in enumerate(ms):\n",
    "    match_atoms = m.GetSubstructMatch(mcs_mol)\n",
    "    print (match_atoms)\n",
    "    Draw.MolToFile(m,'comp_%d.png' % i,highlightAtoms=match_atoms)"
   ]
  },
  {
   "cell_type": "code",
   "execution_count": 22,
   "metadata": {
    "collapsed": false
   },
   "outputs": [
    {
     "name": "stdout",
     "output_type": "stream",
     "text": [
      "[#6]1=[#6]-[#6]-[#6](-[#6]=[#6]-1)-[#8]-[#6](-[#6](=[#8])-[#8])=[#6]\n"
     ]
    }
   ],
   "source": [
    "print(mcs_smarts)"
   ]
  },
  {
   "cell_type": "code",
   "execution_count": 24,
   "metadata": {
    "collapsed": false
   },
   "outputs": [],
   "source": [
    "mcsMol = Chem.MolFromSmarts(mcs_smarts,mergeHs=True)"
   ]
  },
  {
   "cell_type": "code",
   "execution_count": 25,
   "metadata": {
    "collapsed": true
   },
   "outputs": [],
   "source": [
    "Draw.MolToFile(Chem.Mol(mcsMol.ToBinary()),\"mcs.png\",kekulize=False)"
   ]
  },
  {
   "cell_type": "code",
   "execution_count": 27,
   "metadata": {
    "collapsed": false
   },
   "outputs": [
    {
     "name": "stdout",
     "output_type": "stream",
     "text": [
      "(0, 1, 2, 3, 4, 5, 6, 7, 10, 11, 12, 8)\n",
      "(0, 1, 2, 3, 4, 5, 6, 7, 10, 11, 12, 8)\n",
      "(0, 5, 4, 3, 2, 1, 6, 7, 10, 11, 12, 8)\n"
     ]
    }
   ],
   "source": [
    "match_list = []\n",
    "for i,m in enumerate(ms):\n",
    "    match_atoms = m.GetSubstructMatch(mcs_mol)\n",
    "    print (match_atoms)\n",
    "    match_list.append(match_atoms)\n",
    "img = Draw.MolsToGridImage(ms, highlightAtomLists=match_list)\n",
    "img.save('all_comp.png')"
   ]
  },
  {
   "cell_type": "code",
   "execution_count": 28,
   "metadata": {
    "collapsed": false
   },
   "outputs": [
    {
     "ename": "FileNotFoundError",
     "evalue": "[Errno 2] No such file or directory: 'Streptomyces.kcfs'",
     "output_type": "error",
     "traceback": [
      "\u001b[0;31m---------------------------------------------------------------------------\u001b[0m",
      "\u001b[0;31mFileNotFoundError\u001b[0m                         Traceback (most recent call last)",
      "\u001b[0;32m<ipython-input-28-056ed7db0d0b>\u001b[0m in \u001b[0;36m<module>\u001b[0;34m()\u001b[0m\n\u001b[0;32m----> 1\u001b[0;31m \u001b[0;32mwith\u001b[0m \u001b[0mopen\u001b[0m\u001b[0;34m(\u001b[0m\u001b[0;34m\"Streptomyces.kcfs\"\u001b[0m\u001b[0;34m)\u001b[0m\u001b[0;32mas\u001b[0m \u001b[0mf\u001b[0m\u001b[0;34m:\u001b[0m\u001b[0;34m\u001b[0m\u001b[0m\n\u001b[0m\u001b[1;32m      2\u001b[0m     \u001b[0mfile\u001b[0m \u001b[0;34m=\u001b[0m \u001b[0mf\u001b[0m\u001b[0;34m.\u001b[0m\u001b[0mread\u001b[0m\u001b[0;34m(\u001b[0m\u001b[0;34m)\u001b[0m\u001b[0;34m\u001b[0m\u001b[0m\n\u001b[1;32m      3\u001b[0m     \u001b[0mmolecule\u001b[0m \u001b[0;34m=\u001b[0m \u001b[0mfile\u001b[0m\u001b[0;34m.\u001b[0m\u001b[0msplit\u001b[0m\u001b[0;34m(\u001b[0m\u001b[0;34m\"///\\n\"\u001b[0m\u001b[0;34m)\u001b[0m\u001b[0;34m\u001b[0m\u001b[0m\n\u001b[1;32m      4\u001b[0m     \u001b[0mprint\u001b[0m\u001b[0;34m(\u001b[0m\u001b[0mmocule\u001b[0m\u001b[0;34m[\u001b[0m\u001b[0;36m0\u001b[0m\u001b[0;34m]\u001b[0m\u001b[0;34m)\u001b[0m\u001b[0;34m\u001b[0m\u001b[0m\n",
      "\u001b[0;31mFileNotFoundError\u001b[0m: [Errno 2] No such file or directory: 'Streptomyces.kcfs'"
     ]
    }
   ],
   "source": [
    "with open(\"Streptomyces.kcfs\")as f:\n",
    "    file = f.read()\n",
    "    molecule = file.split(\"///\\n\")\n",
    "    print(mocule[0])"
   ]
  },
  {
   "cell_type": "code",
   "execution_count": 7,
   "metadata": {
    "collapsed": false
   },
   "outputs": [],
   "source": [
    "from rdkit.Chem import rdDepictor\n",
    "all_nodes = []\n",
    "for nod in node.GetAllChildren().values():\n",
    "    rdDepictor.Compute2DCoords(nod.mol)\n",
    "    all_nodes.append(nod.mol)\n",
    "img = Draw.MolsToGridImage(all_nodes)\n",
    "img.save('all_nodes.png')"
   ]
  },
  {
   "cell_type": "code",
   "execution_count": 9,
   "metadata": {
    "collapsed": false
   },
   "outputs": [],
   "source": [
    "leavs = []\n",
    "for leaf in node.GetLeaves().values():\n",
    "    rdDepictor.Compute2DCoords(leaf.mol)\n",
    "    leavs.append(leaf.mol)\n",
    "img = Draw.MolsToGridImage(leavs)\n",
    "img.save('leaves.png')"
   ]
  },
  {
   "cell_type": "code",
   "execution_count": null,
   "metadata": {
    "collapsed": true
   },
   "outputs": [],
   "source": []
  }
 ],
 "metadata": {
  "kernelspec": {
   "display_name": "Python 3",
   "language": "python",
   "name": "python3"
  },
  "language_info": {
   "codemirror_mode": {
    "name": "ipython",
    "version": 3
   },
   "file_extension": ".py",
   "mimetype": "text/x-python",
   "name": "python",
   "nbconvert_exporter": "python",
   "pygments_lexer": "ipython3",
   "version": "3.4.5"
  }
 },
 "nbformat": 4,
 "nbformat_minor": 2
}
