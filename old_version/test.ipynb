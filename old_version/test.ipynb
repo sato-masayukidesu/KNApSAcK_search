{
 "cells": [
  {
   "cell_type": "code",
   "execution_count": null,
   "metadata": {
    "collapsed": false
   },
   "outputs": [],
   "source": [
    "C_number = [\"C00000730\",\"C00000733\",\"C00000734\"]"
   ]
  },
  {
   "cell_type": "code",
   "execution_count": null,
   "metadata": {
    "collapsed": false
   },
   "outputs": [],
   "source": [
    "from rdkit import Chem\n",
    "for i in C_number:\n",
    "    mol_data = open('%s.mol' % (i),'r').read()\n",
    "    mol = Chem.MolFromMolBlock(mol_data)\n",
    "    print(Chem.MolToSmiles(mol))"
   ]
  },
  {
   "cell_type": "code",
   "execution_count": null,
   "metadata": {
    "collapsed": false,
    "scrolled": false
   },
   "outputs": [],
   "source": [
    "from rdkit.Chem import Recap\n",
    "from rdkit.Chem import Draw\n",
    "mol_data = open('%s.mol' % (C_number[0]),'r').read()\n",
    "mol = Chem.MolFromMolBlock(mol_data)\n",
    "node = Recap.RecapDecompose(mol)\n",
    "print(node)"
   ]
  },
  {
   "cell_type": "code",
   "execution_count": null,
   "metadata": {
    "collapsed": true
   },
   "outputs": [],
   "source": [
    "all_nodes = [node.mol for node in node.GetAllChildren().values()]\n",
    "img = Draw.MolsToGridImage(all_nodes)\n",
    "img.save('all_nodes.png')"
   ]
  },
  {
   "cell_type": "code",
   "execution_count": null,
   "metadata": {
    "collapsed": true
   },
   "outputs": [],
   "source": [
    "leaves = [leaf.mol for leaf in node.GetLeaves().values()]\n",
    "img = Draw.MolsToGridImage(leaves)\n",
    "img.save('leaves.png')"
   ]
  },
  {
   "cell_type": "code",
   "execution_count": null,
   "metadata": {
    "collapsed": true
   },
   "outputs": [],
   "source": []
  },
  {
   "cell_type": "code",
   "execution_count": null,
   "metadata": {
    "collapsed": true
   },
   "outputs": [],
   "source": [
    "from rdkit.Chem import AllChem\n",
    "from rdkit.Chem import BRICS\n",
    "from rdkit.Chem import rdMolDescriptors"
   ]
  },
  {
   "cell_type": "code",
   "execution_count": null,
   "metadata": {
    "collapsed": false
   },
   "outputs": [],
   "source": [
    "smiles = Chem.MolToSmiles(mol)\n",
    "frag = BRICS.BRICSDecompose(mol)"
   ]
  },
  {
   "cell_type": "code",
   "execution_count": null,
   "metadata": {
    "collapsed": false,
    "scrolled": true
   },
   "outputs": [],
   "source": [
    "print(len(frag))"
   ]
  },
  {
   "cell_type": "code",
   "execution_count": null,
   "metadata": {
    "collapsed": false,
    "scrolled": false
   },
   "outputs": [],
   "source": [
    "print(frag)"
   ]
  },
  {
   "cell_type": "code",
   "execution_count": null,
   "metadata": {
    "collapsed": true
   },
   "outputs": [],
   "source": [
    "from rdkit.Chem import Draw\n",
    "from rdkit.Chem import rdDepictor\n",
    "for i in frag:\n",
    "    mol = Chem.MolFromSmiles(i)\n",
    "    rdDepictor.Compute2DCoords(mol)\n",
    "    Draw.MolToFile(mol, '%s.png' % (i))"
   ]
  },
  {
   "cell_type": "code",
   "execution_count": null,
   "metadata": {
    "collapsed": true
   },
   "outputs": [],
   "source": []
  },
  {
   "cell_type": "code",
   "execution_count": null,
   "metadata": {
    "collapsed": false
   },
   "outputs": [],
   "source": [
    "for i in C_number:\n",
    "    mol_data = open('%s.mol' % (i),'r').read()\n",
    "    mol = Chem.MolFromMolBlock(mol_data)\n",
    "    smiles = Chem.MolToSmiles(mol)\n",
    "    frag = BRICS.BRICSDecompose(mol)\n",
    "    print(frag)"
   ]
  },
  {
   "cell_type": "code",
   "execution_count": null,
   "metadata": {
    "collapsed": true
   },
   "outputs": [],
   "source": [
    "mols = []\n",
    "for i in C_number:\n",
    "    mol_data = open('%s.mol' % (i),'r').read()\n",
    "    mol = Chem.MolFromMolBlock(mol_data)\n",
    "    mols.append(mol)\n",
    "outf = Chem.SDWriter(\"output.sdf\")\n",
    "for mol in mols:\n",
    "    AllChem.Compute2DCoords(mol)\n",
    "    outf.write(mol)"
   ]
  },
  {
   "cell_type": "code",
   "execution_count": null,
   "metadata": {
    "collapsed": false
   },
   "outputs": [],
   "source": [
    "from rdkit.Chem import rdFMCS\n",
    "ms = [m for m in Chem.SDMolSupplier('output.sdf') if m is not None]\n",
    "mcs = rdFMCS.FindMCS(ms)\n",
    "mcs_smarts = mcs.smartsString\n",
    "mcs_mol = Chem.MolFromSmarts(mcs_smarts)\n",
    "for i,m in enumerate(ms):\n",
    "    match_atoms = m.GetSubstructMatch(mcs_mol)\n",
    "    print (match_atoms)\n",
    "    Draw.MolToFile(m,'comp_%d.png' % i,highlightAtoms=match_atoms)"
   ]
  },
  {
   "cell_type": "code",
   "execution_count": null,
   "metadata": {
    "collapsed": true
   },
   "outputs": [],
   "source": []
  }
 ],
 "metadata": {
  "kernelspec": {
   "display_name": "Python 3",
   "language": "python",
   "name": "python3"
  },
  "language_info": {
   "codemirror_mode": {
    "name": "ipython",
    "version": 3
   },
   "file_extension": ".py",
   "mimetype": "text/x-python",
   "name": "python",
   "nbconvert_exporter": "python",
   "pygments_lexer": "ipython3",
   "version": "3.4.5"
  }
 },
 "nbformat": 4,
 "nbformat_minor": 2
}
