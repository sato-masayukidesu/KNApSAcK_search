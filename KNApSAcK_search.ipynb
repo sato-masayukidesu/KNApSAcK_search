{
 "cells": [
  {
   "cell_type": "code",
   "execution_count": 1,
   "metadata": {
    "collapsed": true
   },
   "outputs": [],
   "source": [
    "import urllib.request"
   ]
  },
  {
   "cell_type": "code",
   "execution_count": 2,
   "metadata": {
    "collapsed": false
   },
   "outputs": [
    {
     "name": "stdout",
     "output_type": "stream",
     "text": [
      "Klebsiella\n"
     ]
    }
   ],
   "source": [
    "x = input()\n",
    "url = \"http://kanaya.naist.jp/knapsack_jsp/result.jsp?sname=all&word=%s\" % (x)"
   ]
  },
  {
   "cell_type": "code",
   "execution_count": 3,
   "metadata": {
    "collapsed": false
   },
   "outputs": [
    {
     "name": "stdout",
     "output_type": "stream",
     "text": [
      "http://kanaya.naist.jp/knapsack_jsp/result.jsp?sname=all&word=Klebsiella\n"
     ]
    }
   ],
   "source": [
    "print(url)"
   ]
  },
  {
   "cell_type": "code",
   "execution_count": 4,
   "metadata": {
    "collapsed": false
   },
   "outputs": [
    {
     "data": {
      "text/plain": [
       "('Klebsiella.txt', <http.client.HTTPMessage at 0x104742400>)"
      ]
     },
     "execution_count": 4,
     "metadata": {},
     "output_type": "execute_result"
    }
   ],
   "source": [
    "urllib.request.urlretrieve(url, '%s.txt' % (x))"
   ]
  },
  {
   "cell_type": "code",
   "execution_count": 7,
   "metadata": {
    "collapsed": false
   },
   "outputs": [
    {
     "name": "stdout",
     "output_type": "stream",
     "text": [
      "C00000730\n",
      "C00000733\n",
      "C00000734\n"
     ]
    }
   ],
   "source": [
    "ld = open(\"%s.txt\" % (x))\n",
    "lines = ld.readlines()\n",
    "ld.close()\n",
    "\n",
    "C_number = []\n",
    "\n",
    "for line in lines:\n",
    "    if line.find(\"word=C\") >= 0:\n",
    "        print(line[49:-34])\n",
    "        C_number.append(line[49:-34])\n",
    "        urllib.request.urlretrieve(\"http://knapsack3d.sakura.ne.jp/mol3d/%s.3d.mol\" % (line[49:-34]), '%s.mol' % (line[49:-34]))"
   ]
  },
  {
   "cell_type": "code",
   "execution_count": 8,
   "metadata": {
    "collapsed": false
   },
   "outputs": [
    {
     "name": "stdout",
     "output_type": "stream",
     "text": [
      "['C00000730', 'C00000733', 'C00000734']\n"
     ]
    }
   ],
   "source": [
    "print(C_number)"
   ]
  },
  {
   "cell_type": "code",
   "execution_count": 12,
   "metadata": {
    "collapsed": false
   },
   "outputs": [
    {
     "name": "stdout",
     "output_type": "stream",
     "text": [
      "C=C(OC1C=C(C(=O)O)C=CC1N)C(=O)O\n"
     ]
    }
   ],
   "source": [
    "from rdkit import Chem\n",
    "mol_data = open('C00000730.mol','r').read()\n",
    "mol = Chem.MolFromMolBlock(mol_data)\n",
    "print(Chem.MolToSmiles(mol))"
   ]
  },
  {
   "cell_type": "code",
   "execution_count": null,
   "metadata": {
    "collapsed": true
   },
   "outputs": [],
   "source": [
    "C=C(OC1C=C(C(=O)O)C=CC1N)C(=O)O"
   ]
  }
 ],
 "metadata": {
  "kernelspec": {
   "display_name": "Python 3",
   "language": "python",
   "name": "python3"
  },
  "language_info": {
   "codemirror_mode": {
    "name": "ipython",
    "version": 3
   },
   "file_extension": ".py",
   "mimetype": "text/x-python",
   "name": "python",
   "nbconvert_exporter": "python",
   "pygments_lexer": "ipython3",
   "version": "3.4.5"
  }
 },
 "nbformat": 4,
 "nbformat_minor": 2
}
