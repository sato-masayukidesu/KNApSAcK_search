{
 "cells": [
  {
   "cell_type": "code",
   "execution_count": 1,
   "metadata": {
    "collapsed": true
   },
   "outputs": [],
   "source": [
    "import requests"
   ]
  },
  {
   "cell_type": "code",
   "execution_count": 2,
   "metadata": {
    "collapsed": false
   },
   "outputs": [
    {
     "name": "stdout",
     "output_type": "stream",
     "text": [
      "Klebsiella\n"
     ]
    }
   ],
   "source": [
    "genus = input()\n",
    "html = requests.get(\"http://kanaya.naist.jp/knapsack_jsp/result.jsp?sname=all&word=\" + genus)"
   ]
  },
  {
   "cell_type": "code",
   "execution_count": 42,
   "metadata": {
    "collapsed": false
   },
   "outputs": [
    {
     "data": {
      "text/plain": [
       "'<html>\\n\\n<!%@ page import=\"knapsack2.HtmlProcessing\" %>\\n\\n\\n\\n\\n\\n<head>\\n<title>KNApSAcK keyword Search</title>\\n<meta http-equiv=\"Content-Type\" content=\"text/html\">\\n<meta http-equiv=\"Content-Style-Type\" content=\"text/css\">\\n<meta http-equiv=\"Pragma\" content=\"no-cache\">\\n<meta http-equiv=\"Cache-Control\" content=\"no-cache\">\\n<link rel=\"stylesheet\" type=\"text/css\" href=\"css/top.css\" media=\"all\">\\n<link rel=\"stylesheet\" type=\"text/css\" href=\"css/default.css\" media=\"all\">\\n<script type=\"text/javascript\" src=\"sort_js/fastinit.js\"></script>\\n<script type=\"text/javascript\" src=\"sort_js/prototype.js\"></script>\\n<script type=\"text/javascript\" src=\"sort_js/tablekit.js\"></script>\\n</head>\\n\\n<body>\\n\\n<div id=\"my_body\">\\n  <div id=\"my_header\">\\n      <p class=\"hm\"><a href=\"top.html\" style=\"text-decoration:none\" target=\"_blank\">\\n      <img src=\"images/nap2.gif\" border=0> </a></p>\\n  </div>\\n  <div id=\"my_main\">\\n    <div id=\"my_navigation\">\\n    \\t <!--menu//-->\\n    </div>\\n    <div id=\"my_contents\">\\n\\t   <br>\\n\\t   input type = <font class=\"iw\">all</font> , \\n\\t   input word = <font class=\"iw\">Klebsiella</font><br><br>\\n\\n\\n<table class=\"sortable d1\">\\n  <th class=\"w1\">C_ID</th>\\n  <th class=\"w2\">CAS ID</th>\\n  <th class=\"w3\">Metabolite</th>\\n  <th class=\"w4\">Molecular formula</th>\\n  <th class=\"w5\">Mw</th>\\n          <th class=\"w3\">Organism or InChIKey</th> \\n\\n\\n        Number of matched data : 3<br>\\n\\n\\t\\t<tr>\\n\\n\\t    <td class=\"d1\"><a href=information.jsp?word=C00000730 target=_blank>C00000730</a></td>\\n\\n\\t    <td class=\"d1\">133442-18-9<br></td>\\n\\n\\t    <td class=\"d1\">4-Amino-4-deoxychorismic acid<br></td>\\n\\n\\t    <td class=\"d1\">C10H11NO5<br></td>\\n\\n\\t    <td class=\"d1\">225.06372247<br></td>\\n\\n\\t    <td class=\"d1\"><font color=#FF00BF>Klebsiella</font> pneumonia<br></td>\\n\\t</tr><tr>\\n\\n\\t    <td class=\"d1\"><a href=information.jsp?word=C00000733 target=_blank>C00000733</a></td>\\n\\n\\t    <td class=\"d1\">617-12-9<br></td>\\n\\n\\t    <td class=\"d1\">Chorismic acid<br></td>\\n\\n\\t    <td class=\"d1\">C10H10O6<br></td>\\n\\n\\t    <td class=\"d1\">226.04773805<br></td>\\n\\n\\t    <td class=\"d1\"><font color=#FF00BF>Klebsiella</font> pneumonia<br></td>\\n\\t</tr><tr>\\n\\n\\t    <td class=\"d1\"><a href=information.jsp?word=C00000734 target=_blank>C00000734</a></td>\\n\\n\\t    <td class=\"d1\">22642-82-6<br></td>\\n\\n\\t    <td class=\"d1\">Isochorismic acid<br></td>\\n\\n\\t    <td class=\"d1\">C10H10O6<br></td>\\n\\n\\t    <td class=\"d1\">226.04773805<br></td>\\n\\n\\t    <td class=\"d1\"><font color=#FF00BF>Klebsiella</font> pneumonia<br></td>\\n\\t</tr><tr>\\n\\n   </tr>\\n   </table>\\n   </div>\\n   </div>\\n   <div id=\"my_footer\">\\n         All rights reserved. &copy; 2007 NARA INSTITUTE of SCIENCE and TECHNOLOGY\\n   </div>\\n</div>\\n\\n\\n\\n</body>\\n</html>\\n'"
      ]
     },
     "execution_count": 42,
     "metadata": {},
     "output_type": "execute_result"
    }
   ],
   "source": [
    "html.text"
   ]
  },
  {
   "cell_type": "code",
   "execution_count": 15,
   "metadata": {
    "collapsed": true
   },
   "outputs": [],
   "source": [
    "import lxml.html"
   ]
  },
  {
   "cell_type": "code",
   "execution_count": 39,
   "metadata": {
    "collapsed": true
   },
   "outputs": [],
   "source": [
    "dom = lxml.html.fromstring(html.text)"
   ]
  },
  {
   "cell_type": "code",
   "execution_count": 40,
   "metadata": {
    "collapsed": false
   },
   "outputs": [
    {
     "name": "stdout",
     "output_type": "stream",
     "text": [
      "<Element html at 0x10794e048>\n"
     ]
    }
   ],
   "source": [
    "print(dom)"
   ]
  },
  {
   "cell_type": "code",
   "execution_count": 18,
   "metadata": {
    "collapsed": false
   },
   "outputs": [
    {
     "ename": "IndexError",
     "evalue": "list index out of range",
     "output_type": "error",
     "traceback": [
      "\u001b[0;31m---------------------------------------------------------------------------\u001b[0m",
      "\u001b[0;31mIndexError\u001b[0m                                Traceback (most recent call last)",
      "\u001b[0;32m<ipython-input-18-3c0496a0e2e0>\u001b[0m in \u001b[0;36m<module>\u001b[0;34m()\u001b[0m\n\u001b[0;32m----> 1\u001b[0;31m \u001b[0mCnumber\u001b[0m \u001b[0;34m=\u001b[0m \u001b[0mdom\u001b[0m\u001b[0;34m.\u001b[0m\u001b[0mxpath\u001b[0m\u001b[0;34m(\u001b[0m\u001b[0;34m'//*[@id=\"tablekit-table-1\"]/tbody/tr[2]/td[1]/a'\u001b[0m\u001b[0;34m)\u001b[0m\u001b[0;34m[\u001b[0m\u001b[0;36m0\u001b[0m\u001b[0;34m]\u001b[0m\u001b[0;34m.\u001b[0m\u001b[0mtext\u001b[0m\u001b[0;34m\u001b[0m\u001b[0m\n\u001b[0m",
      "\u001b[0;31mIndexError\u001b[0m: list index out of range"
     ]
    }
   ],
   "source": [
    "Cnumber = dom.xpath('//*[@id=\"tablekit-table-1\"]/tbody/tr[2]/td[1]/a')[0].text"
   ]
  },
  {
   "cell_type": "code",
   "execution_count": 107,
   "metadata": {
    "collapsed": false
   },
   "outputs": [
    {
     "name": "stdout",
     "output_type": "stream",
     "text": [
      "[]\n"
     ]
    }
   ],
   "source": [
    "print(dom.xpath('//*[@id=\"1143123\"]/a[4]'))"
   ]
  },
  {
   "cell_type": "code",
   "execution_count": 12,
   "metadata": {
    "collapsed": false
   },
   "outputs": [
    {
     "name": "stdout",
     "output_type": "stream",
     "text": [
      "[]\n"
     ]
    }
   ],
   "source": [
    "print(Cnumber)"
   ]
  },
  {
   "cell_type": "code",
   "execution_count": 64,
   "metadata": {
    "collapsed": false
   },
   "outputs": [
    {
     "name": "stdout",
     "output_type": "stream",
     "text": [
      "file:///var/folders/wn/41rbcxtn47334k0mhxtkbh0m0000gn/T/tmp1y0y3wbo.html\n"
     ]
    }
   ],
   "source": [
    "lxml.html.open_in_browser(dom)"
   ]
  },
  {
   "cell_type": "code",
   "execution_count": 21,
   "metadata": {
    "collapsed": false
   },
   "outputs": [
    {
     "name": "stdout",
     "output_type": "stream",
     "text": [
      "http://kanaya.naist.jp/knapsack_jsp/result.jsp?sname=all&word=Klebsiella\n"
     ]
    }
   ],
   "source": [
    "print(\"http://kanaya.naist.jp/knapsack_jsp/result.jsp?sname=all&word=\" + genus)"
   ]
  },
  {
   "cell_type": "code",
   "execution_count": 23,
   "metadata": {
    "collapsed": false
   },
   "outputs": [
    {
     "name": "stdout",
     "output_type": "stream",
     "text": [
      "<html>\n",
      "\n",
      "<!%@ page import=\"knapsack2.HtmlProcessing\" %>\n",
      "\n",
      "\n",
      "\n",
      "\n",
      "\n",
      "<head>\n",
      "<title>KNApSAcK keyword Search</title>\n",
      "<meta http-equiv=\"Content-Type\" content=\"text/html\">\n",
      "<meta http-equiv=\"Content-Style-Type\" content=\"text/css\">\n",
      "<meta http-equiv=\"Pragma\" content=\"no-cache\">\n",
      "<meta http-equiv=\"Cache-Control\" content=\"no-cache\">\n",
      "<link rel=\"stylesheet\" type=\"text/css\" href=\"css/top.css\" media=\"all\">\n",
      "<link rel=\"stylesheet\" type=\"text/css\" href=\"css/default.css\" media=\"all\">\n",
      "<script type=\"text/javascript\" src=\"sort_js/fastinit.js\"></script>\n",
      "<script type=\"text/javascript\" src=\"sort_js/prototype.js\"></script>\n",
      "<script type=\"text/javascript\" src=\"sort_js/tablekit.js\"></script>\n",
      "</head>\n",
      "\n",
      "<body>\n",
      "\n",
      "<div id=\"my_body\">\n",
      "  <div id=\"my_header\">\n",
      "      <p class=\"hm\"><a href=\"top.html\" style=\"text-decoration:none\" target=\"_blank\">\n",
      "      <img src=\"images/nap2.gif\" border=0> </a></p>\n",
      "  </div>\n",
      "  <div id=\"my_main\">\n",
      "    <div id=\"my_navigation\">\n",
      "    \t <!--menu//-->\n",
      "    </div>\n",
      "    <div id=\"my_contents\">\n",
      "\t   <br>\n",
      "\t   input type = <font class=\"iw\">all</font> , \n",
      "\t   input word = <font class=\"iw\">Klebsiella</font><br><br>\n",
      "\n",
      "\n",
      "<table class=\"sortable d1\">\n",
      "  <th class=\"w1\">C_ID</th>\n",
      "  <th class=\"w2\">CAS ID</th>\n",
      "  <th class=\"w3\">Metabolite</th>\n",
      "  <th class=\"w4\">Molecular formula</th>\n",
      "  <th class=\"w5\">Mw</th>\n",
      "          <th class=\"w3\">Organism or InChIKey</th> \n",
      "\n",
      "\n",
      "        Number of matched data : 3<br>\n",
      "\n",
      "\t\t<tr>\n",
      "\n",
      "\t    <td class=\"d1\"><a href=information.jsp?word=C00000730 target=_blank>C00000730</a></td>\n",
      "\n",
      "\t    <td class=\"d1\">133442-18-9<br></td>\n",
      "\n",
      "\t    <td class=\"d1\">4-Amino-4-deoxychorismic acid<br></td>\n",
      "\n",
      "\t    <td class=\"d1\">C10H11NO5<br></td>\n",
      "\n",
      "\t    <td class=\"d1\">225.06372247<br></td>\n",
      "\n",
      "\t    <td class=\"d1\"><font color=#FF00BF>Klebsiella</font> pneumonia<br></td>\n",
      "\t</tr><tr>\n",
      "\n",
      "\t    <td class=\"d1\"><a href=information.jsp?word=C00000733 target=_blank>C00000733</a></td>\n",
      "\n",
      "\t    <td class=\"d1\">617-12-9<br></td>\n",
      "\n",
      "\t    <td class=\"d1\">Chorismic acid<br></td>\n",
      "\n",
      "\t    <td class=\"d1\">C10H10O6<br></td>\n",
      "\n",
      "\t    <td class=\"d1\">226.04773805<br></td>\n",
      "\n",
      "\t    <td class=\"d1\"><font color=#FF00BF>Klebsiella</font> pneumonia<br></td>\n",
      "\t</tr><tr>\n",
      "\n",
      "\t    <td class=\"d1\"><a href=information.jsp?word=C00000734 target=_blank>C00000734</a></td>\n",
      "\n",
      "\t    <td class=\"d1\">22642-82-6<br></td>\n",
      "\n",
      "\t    <td class=\"d1\">Isochorismic acid<br></td>\n",
      "\n",
      "\t    <td class=\"d1\">C10H10O6<br></td>\n",
      "\n",
      "\t    <td class=\"d1\">226.04773805<br></td>\n",
      "\n",
      "\t    <td class=\"d1\"><font color=#FF00BF>Klebsiella</font> pneumonia<br></td>\n",
      "\t</tr><tr>\n",
      "\n",
      "   </tr>\n",
      "   </table>\n",
      "   </div>\n",
      "   </div>\n",
      "   <div id=\"my_footer\">\n",
      "         All rights reserved. &copy; 2007 NARA INSTITUTE of SCIENCE and TECHNOLOGY\n",
      "   </div>\n",
      "</div>\n",
      "\n",
      "\n",
      "\n",
      "</body>\n",
      "</html>\n",
      "\n"
     ]
    }
   ],
   "source": [
    "print(html.text)"
   ]
  },
  {
   "cell_type": "code",
   "execution_count": 111,
   "metadata": {
    "collapsed": false
   },
   "outputs": [],
   "source": [
    "Cnumber = dom.xpath('//*[@class=\"sortable d1\"]/tr[4]/td[1]/a')"
   ]
  },
  {
   "cell_type": "code",
   "execution_count": 112,
   "metadata": {
    "collapsed": false
   },
   "outputs": [
    {
     "name": "stdout",
     "output_type": "stream",
     "text": [
      "[]\n"
     ]
    }
   ],
   "source": [
    "print(Cnumber)"
   ]
  },
  {
   "cell_type": "code",
   "execution_count": 81,
   "metadata": {
    "collapsed": false
   },
   "outputs": [
    {
     "data": {
      "text/plain": [
       "IndexError"
      ]
     },
     "execution_count": 81,
     "metadata": {},
     "output_type": "execute_result"
    }
   ],
   "source": [
    "IndexError"
   ]
  },
  {
   "cell_type": "code",
   "execution_count": 115,
   "metadata": {
    "collapsed": false
   },
   "outputs": [
    {
     "name": "stdout",
     "output_type": "stream",
     "text": [
      "shu-ryo-\n"
     ]
    }
   ],
   "source": [
    "i = 1\n",
    "Cnumber = []\n",
    "while(True):\n",
    "    try:\n",
    "        Cnumber.append(dom.xpath('//*[@class=\"sortable d1\"]/tr[' + str(i) + ']/td[1]/a')[0].text)\n",
    "    except IndexError:\n",
    "        print(\"shu-ryo-\")\n",
    "        break\n",
    "    i += 1\n",
    "    if i > 30:\n",
    "        print(\"nagasugi\")\n",
    "        break"
   ]
  },
  {
   "cell_type": "code",
   "execution_count": 116,
   "metadata": {
    "collapsed": false
   },
   "outputs": [
    {
     "name": "stdout",
     "output_type": "stream",
     "text": [
      "['C00000730', 'C00000733', 'C00000734']\n"
     ]
    }
   ],
   "source": [
    "print(Cnumber)"
   ]
  },
  {
   "cell_type": "code",
   "execution_count": null,
   "metadata": {
    "collapsed": true
   },
   "outputs": [],
   "source": []
  },
  {
   "cell_type": "code",
   "execution_count": null,
   "metadata": {
    "collapsed": true
   },
   "outputs": [],
   "source": []
  },
  {
   "cell_type": "code",
   "execution_count": null,
   "metadata": {
    "collapsed": false
   },
   "outputs": [],
   "source": []
  },
  {
   "cell_type": "code",
   "execution_count": null,
   "metadata": {
    "collapsed": true
   },
   "outputs": [],
   "source": []
  }
 ],
 "metadata": {
  "kernelspec": {
   "display_name": "Python 3",
   "language": "python",
   "name": "python3"
  },
  "language_info": {
   "codemirror_mode": {
    "name": "ipython",
    "version": 3
   },
   "file_extension": ".py",
   "mimetype": "text/x-python",
   "name": "python",
   "nbconvert_exporter": "python",
   "pygments_lexer": "ipython3",
   "version": "3.4.5"
  }
 },
 "nbformat": 4,
 "nbformat_minor": 2
}
